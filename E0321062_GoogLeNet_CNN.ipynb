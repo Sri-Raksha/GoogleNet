{
  "cells": [
    {
      "cell_type": "markdown",
      "metadata": {
        "id": "view-in-github",
        "colab_type": "text"
      },
      "source": [
        "<a href=\"https://colab.research.google.com/github/Sri-Raksha/GoogleNet/blob/main/E0321062_GoogLeNet_CNN.ipynb\" target=\"_parent\"><img src=\"https://colab.research.google.com/assets/colab-badge.svg\" alt=\"Open In Colab\"/></a>"
      ]
    },
    {
      "cell_type": "code",
      "execution_count": null,
      "metadata": {
        "id": "jeHXpYpiJ-rz"
      },
      "outputs": [],
      "source": [
        "from keras.models import Sequential, Model\n",
        "import numpy as np\n",
        "from keras import utils"
      ]
    },
    {
      "cell_type": "code",
      "execution_count": null,
      "metadata": {
        "id": "nr7941m4MCIW"
      },
      "outputs": [],
      "source": [
        "from keras.layers import Conv2D, MaxPooling2D, concatenate, Input, Dropout, Dense, AveragePooling2D, Flatten, GlobalAveragePooling2D"
      ]
    },
    {
      "cell_type": "code",
      "execution_count": null,
      "metadata": {
        "id": "idi4SN0VMchA"
      },
      "outputs": [],
      "source": [
        "from keras.datasets import mnist"
      ]
    },
    {
      "cell_type": "code",
      "execution_count": null,
      "metadata": {
        "colab": {
          "base_uri": "https://localhost:8080/"
        },
        "id": "7NPHOsZJMHnc",
        "outputId": "71d107d5-6cce-4cea-ac2d-ec5d90a698cc"
      },
      "outputs": [
        {
          "output_type": "stream",
          "name": "stdout",
          "text": [
            "Downloading data from https://storage.googleapis.com/tensorflow/tf-keras-datasets/mnist.npz\n",
            "11490434/11490434 [==============================] - 0s 0us/step\n"
          ]
        }
      ],
      "source": [
        "(x_train, y_train), (x_test, y_test) = mnist.load_data()"
      ]
    },
    {
      "cell_type": "code",
      "source": [
        "x_train.shape"
      ],
      "metadata": {
        "id": "6y5sqRF5s6Sm",
        "outputId": "237995a4-6c08-4999-d12a-8778e3c46480",
        "colab": {
          "base_uri": "https://localhost:8080/"
        }
      },
      "execution_count": null,
      "outputs": [
        {
          "output_type": "execute_result",
          "data": {
            "text/plain": [
              "(60000, 28, 28)"
            ]
          },
          "metadata": {},
          "execution_count": 5
        }
      ]
    },
    {
      "cell_type": "code",
      "execution_count": null,
      "metadata": {
        "id": "5gHQlhI1Rd13"
      },
      "outputs": [],
      "source": [
        "x_train = np.expand_dims(x_train, axis=-1)\n",
        "x_train = x_train.astype('float32') / 255\n",
        "y_train = utils.to_categorical(y_train, num_classes=10)"
      ]
    },
    {
      "cell_type": "code",
      "source": [
        "x_train.shape"
      ],
      "metadata": {
        "id": "ux2zy_H7s8Nz",
        "outputId": "98d94a74-e814-4675-c2e7-3a9e85e8f593",
        "colab": {
          "base_uri": "https://localhost:8080/"
        }
      },
      "execution_count": null,
      "outputs": [
        {
          "output_type": "execute_result",
          "data": {
            "text/plain": [
              "(60000, 28, 28, 1)"
            ]
          },
          "metadata": {},
          "execution_count": 8
        }
      ]
    },
    {
      "cell_type": "code",
      "execution_count": null,
      "metadata": {
        "id": "1MG3JMSWO2mF"
      },
      "outputs": [],
      "source": [
        "def add_inception_module(layer_no, prev_layer, filter1, filter5_in, filter5_out, filter3_in, filter3_out, pool_out):\n",
        "    conv1 = Conv2D(filters=filter1, kernel_size=(1, 1), padding='same', activation='relu', name='inc-%d-1x1'%layer_no)(prev_layer)\n",
        "\n",
        "    conv3_red = Conv2D(filters=filter3_in, kernel_size=(1, 1), padding='same', activation='relu')(prev_layer)\n",
        "    conv3 = Conv2D(filters=filter3_out, kernel_size=(3, 3), padding='same', activation='relu', name='inc-%d-3x3'%layer_no)(conv3_red)\n",
        "\n",
        "    conv5_red = Conv2D(filters=filter5_in, kernel_size=(1, 1), padding='same', activation='relu')(prev_layer)\n",
        "    conv5 = Conv2D(filters=filter5_out, kernel_size=(5, 5), padding='same', activation='relu', name='inc-%s-5x5'%layer_no)(conv5_red)\n",
        "\n",
        "    pool = MaxPooling2D((3,3), strides=(1,1), padding='same')(prev_layer)\n",
        "    pool = Conv2D(pool_out, (1,1), padding='same', activation='relu', name='inc-%d-pool'%layer_no)(pool)\n",
        "\n",
        "    return concatenate([conv1, conv3, conv5, pool], axis=-1)"
      ]
    },
    {
      "cell_type": "code",
      "execution_count": null,
      "metadata": {
        "id": "9fOuTDhocod4"
      },
      "outputs": [],
      "source": [
        "def get_branch_output(prev_layer, branch_no):\n",
        "  branch = AveragePooling2D((3, 3), strides=3, name='branch_%d_pool'%branch_no)(prev_layer)\n",
        "  branch = Conv2D(32, (1, 1), padding='same', activation='relu', name='branch_%d_conv'%branch_no)(branch)\n",
        "  branch = Flatten(name='branch_%d_flatten'%branch_no)(branch)\n",
        "  branch = Dropout(0.7, name='branch_%d_dropout'%branch_no)(branch)\n",
        "  branch = Dense(10, activation='softmax', name='branch_%d_output'%branch_no)(branch)\n",
        "  return branch"
      ]
    },
    {
      "cell_type": "code",
      "execution_count": null,
      "metadata": {
        "id": "3LChkvq6SMeE"
      },
      "outputs": [],
      "source": [
        "input_layer = Input(shape=(28, 28, 1))"
      ]
    },
    {
      "cell_type": "code",
      "execution_count": null,
      "metadata": {
        "colab": {
          "base_uri": "https://localhost:8080/"
        },
        "id": "Np52JBD8a730",
        "outputId": "7b650b72-69da-4773-b628-fbe8e7612fe1"
      },
      "outputs": [
        {
          "data": {
            "text/plain": [
              "TensorShape([None, 28, 28, 1])"
            ]
          },
          "execution_count": 9,
          "metadata": {},
          "output_type": "execute_result"
        }
      ],
      "source": [
        "input_layer.shape"
      ]
    },
    {
      "cell_type": "code",
      "execution_count": null,
      "metadata": {
        "id": "Aemn8jZ5Zxnl"
      },
      "outputs": [],
      "source": [
        "first_layer = Conv2D(filters=64, kernel_size=(7, 7), padding='same', strides=(2, 2), activation='relu', name='first_7x7')(input_layer)\n",
        "first_layer = MaxPooling2D(pool_size=(3, 3), padding='same', strides=(2, 2), name='first_pool')(first_layer)\n",
        "first_layer = Conv2D(filters=64, kernel_size=(1, 1), padding='same', strides=(1, 1), activation='relu', name='first_conv_3x3')(first_layer)\n",
        "first_layer = Conv2D(filters=192, kernel_size=(3, 3), padding='same', strides=(1, 1), activation='relu', name='first_conv_3x3_b/1')(first_layer)\n",
        "first_layer = MaxPooling2D(pool_size=(3, 3), padding='same', strides=(2, 2), name='first_pool/2')(first_layer)"
      ]
    },
    {
      "cell_type": "code",
      "execution_count": null,
      "metadata": {
        "colab": {
          "base_uri": "https://localhost:8080/"
        },
        "id": "5E-Vpx6TcKA7",
        "outputId": "4b105cd3-66cf-486e-b39a-99221befa54d"
      },
      "outputs": [
        {
          "data": {
            "text/plain": [
              "TensorShape([None, 4, 4, 192])"
            ]
          },
          "execution_count": 19,
          "metadata": {},
          "output_type": "execute_result"
        }
      ],
      "source": [
        "first_layer.shape"
      ]
    },
    {
      "cell_type": "code",
      "execution_count": null,
      "metadata": {
        "id": "mohyVD5uaCRo"
      },
      "outputs": [],
      "source": [
        "inc = add_inception_module(layer_no=1,\n",
        "                           prev_layer=first_layer,\n",
        "                           filter1=64,\n",
        "                           filter3_in=96,\n",
        "                           filter3_out=128,\n",
        "                           filter5_in=16,\n",
        "                           filter5_out=32,\n",
        "                           pool_out=32)"
      ]
    },
    {
      "cell_type": "code",
      "execution_count": null,
      "metadata": {
        "id": "2s1Wg0MfbJhW"
      },
      "outputs": [],
      "source": [
        "inc2 = add_inception_module(layer_no=2,\n",
        "                            prev_layer=inc,\n",
        "                            filter1=128,\n",
        "                            filter3_in=128,\n",
        "                            filter3_out=192,\n",
        "                            filter5_in=32,\n",
        "                            filter5_out=96,\n",
        "                            pool_out=64)"
      ]
    },
    {
      "cell_type": "code",
      "execution_count": null,
      "metadata": {
        "colab": {
          "base_uri": "https://localhost:8080/"
        },
        "id": "FiGHWCXxcVQh",
        "outputId": "f4aff257-549e-4eab-ac63-be1a3ca88ac5"
      },
      "outputs": [
        {
          "data": {
            "text/plain": [
              "TensorShape([None, 4, 4, 256])"
            ]
          },
          "execution_count": 22,
          "metadata": {},
          "output_type": "execute_result"
        }
      ],
      "source": [
        "inc.shape"
      ]
    },
    {
      "cell_type": "code",
      "execution_count": null,
      "metadata": {
        "colab": {
          "base_uri": "https://localhost:8080/"
        },
        "id": "EF4JB0ACcWZr",
        "outputId": "c4caa567-e71b-4542-b3c1-35f0139c34de"
      },
      "outputs": [
        {
          "data": {
            "text/plain": [
              "TensorShape([None, 4, 4, 480])"
            ]
          },
          "execution_count": 23,
          "metadata": {},
          "output_type": "execute_result"
        }
      ],
      "source": [
        "inc2.shape"
      ]
    },
    {
      "cell_type": "code",
      "execution_count": null,
      "metadata": {
        "id": "J8ABDwGydh5A"
      },
      "outputs": [],
      "source": [
        "inc3 = add_inception_module(layer_no=3,\n",
        "                            prev_layer=inc2,\n",
        "                            filter1=192,\n",
        "                            filter3_in=96,\n",
        "                            filter3_out=208,\n",
        "                            filter5_in=16,\n",
        "                            filter5_out=48,\n",
        "                            pool_out=64)"
      ]
    },
    {
      "cell_type": "code",
      "execution_count": null,
      "metadata": {
        "id": "xO_LJUPee2Cy"
      },
      "outputs": [],
      "source": [
        "branch1 = get_branch_output(prev_layer=inc3, branch_no=1)"
      ]
    },
    {
      "cell_type": "code",
      "execution_count": null,
      "metadata": {
        "id": "gE3EzoLOeiIE"
      },
      "outputs": [],
      "source": [
        "inc4 = add_inception_module(layer_no=4,\n",
        "                            prev_layer=inc3,\n",
        "                            filter1=160,\n",
        "                            filter3_in=112,\n",
        "                            filter3_out=224,\n",
        "                            filter5_in=24,\n",
        "                            filter5_out=64,\n",
        "                            pool_out=64)"
      ]
    },
    {
      "cell_type": "code",
      "execution_count": null,
      "metadata": {
        "id": "WE_RM0wTepoP"
      },
      "outputs": [],
      "source": [
        "inc5 = add_inception_module(layer_no=5,\n",
        "                            prev_layer=inc4,\n",
        "                            filter1=128,\n",
        "                            filter3_in=128,\n",
        "                            filter3_out=256,\n",
        "                            filter5_in=24,\n",
        "                            filter5_out=64,\n",
        "                            pool_out=64)"
      ]
    },
    {
      "cell_type": "code",
      "execution_count": null,
      "metadata": {
        "id": "OA98TqAFetu1"
      },
      "outputs": [],
      "source": [
        "inc6 = add_inception_module(layer_no=6,\n",
        "                            prev_layer=inc5,\n",
        "                            filter1=112,\n",
        "                            filter3_in=144,\n",
        "                            filter3_out=288,\n",
        "                            filter5_in=32,\n",
        "                            filter5_out=64,\n",
        "                            pool_out=64)"
      ]
    },
    {
      "cell_type": "code",
      "execution_count": null,
      "metadata": {
        "id": "Tt_9vjfdeu9F"
      },
      "outputs": [],
      "source": [
        "branch2 = get_branch_output(prev_layer=inc6, branch_no=2)"
      ]
    },
    {
      "cell_type": "code",
      "execution_count": null,
      "metadata": {
        "id": "7IMUiyGBeCYi"
      },
      "outputs": [],
      "source": [
        "inc7 = add_inception_module(layer_no=7,\n",
        "                            prev_layer=inc6,\n",
        "                            filter1=256,\n",
        "                            filter3_in=160,\n",
        "                            filter3_out=320,\n",
        "                            filter5_in=32,\n",
        "                            filter5_out=128,\n",
        "                            pool_out=128)"
      ]
    },
    {
      "cell_type": "code",
      "execution_count": null,
      "metadata": {
        "id": "TDyqQgIWeClw"
      },
      "outputs": [],
      "source": [
        "inc8 = add_inception_module(layer_no=8,\n",
        "                            prev_layer=inc7,\n",
        "                            filter1=384,\n",
        "                            filter3_in=192,\n",
        "                            filter3_out=384,\n",
        "                            filter5_in=48,\n",
        "                            filter5_out=128,\n",
        "                            pool_out=128)"
      ]
    },
    {
      "cell_type": "code",
      "execution_count": null,
      "metadata": {
        "id": "BVbqM2ruevgZ"
      },
      "outputs": [],
      "source": [
        "out = GlobalAveragePooling2D()(inc8)\n",
        "out = Dropout(0.7)(out)\n",
        "out = Dense(10, activation='softmax', name='final_output')(out)"
      ]
    },
    {
      "cell_type": "code",
      "execution_count": null,
      "metadata": {
        "id": "n6u_SlGMe6Eo"
      },
      "outputs": [],
      "source": [
        "model = Model(input_layer, [out, branch1, branch2])"
      ]
    },
    {
      "cell_type": "code",
      "execution_count": null,
      "metadata": {
        "colab": {
          "base_uri": "https://localhost:8080/"
        },
        "id": "02-WPZAbfLmy",
        "outputId": "8738f0c3-549a-4e5f-b298-ca1087f71955"
      },
      "outputs": [
        {
          "name": "stdout",
          "output_type": "stream",
          "text": [
            "Model: \"model_3\"\n",
            "__________________________________________________________________________________________________\n",
            " Layer (type)                Output Shape                 Param #   Connected to                  \n",
            "==================================================================================================\n",
            " input_1 (InputLayer)        [(None, 28, 28, 1)]          0         []                            \n",
            "                                                                                                  \n",
            " first_7x7 (Conv2D)          (None, 14, 14, 64)           3200      ['input_1[0][0]']             \n",
            "                                                                                                  \n",
            " first_pool (MaxPooling2D)   (None, 7, 7, 64)             0         ['first_7x7[0][0]']           \n",
            "                                                                                                  \n",
            " first_conv_3x3 (Conv2D)     (None, 7, 7, 64)             4160      ['first_pool[0][0]']          \n",
            "                                                                                                  \n",
            " first_conv_3x3_b/1 (Conv2D  (None, 7, 7, 192)            110784    ['first_conv_3x3[0][0]']      \n",
            " )                                                                                                \n",
            "                                                                                                  \n",
            " first_pool/2 (MaxPooling2D  (None, 4, 4, 192)            0         ['first_conv_3x3_b/1[0][0]']  \n",
            " )                                                                                                \n",
            "                                                                                                  \n",
            " conv2d_6 (Conv2D)           (None, 4, 4, 96)             18528     ['first_pool/2[0][0]']        \n",
            "                                                                                                  \n",
            " conv2d_7 (Conv2D)           (None, 4, 4, 16)             3088      ['first_pool/2[0][0]']        \n",
            "                                                                                                  \n",
            " max_pooling2d_3 (MaxPoolin  (None, 4, 4, 192)            0         ['first_pool/2[0][0]']        \n",
            " g2D)                                                                                             \n",
            "                                                                                                  \n",
            " inc-1-1x1 (Conv2D)          (None, 4, 4, 64)             12352     ['first_pool/2[0][0]']        \n",
            "                                                                                                  \n",
            " inc-1-3x3 (Conv2D)          (None, 4, 4, 128)            110720    ['conv2d_6[0][0]']            \n",
            "                                                                                                  \n",
            " inc-1-5x5 (Conv2D)          (None, 4, 4, 32)             12832     ['conv2d_7[0][0]']            \n",
            "                                                                                                  \n",
            " inc-1-pool (Conv2D)         (None, 4, 4, 32)             6176      ['max_pooling2d_3[0][0]']     \n",
            "                                                                                                  \n",
            " concatenate_3 (Concatenate  (None, 4, 4, 256)            0         ['inc-1-1x1[0][0]',           \n",
            " )                                                                   'inc-1-3x3[0][0]',           \n",
            "                                                                     'inc-1-5x5[0][0]',           \n",
            "                                                                     'inc-1-pool[0][0]']          \n",
            "                                                                                                  \n",
            " conv2d_8 (Conv2D)           (None, 4, 4, 128)            32896     ['concatenate_3[0][0]']       \n",
            "                                                                                                  \n",
            " conv2d_9 (Conv2D)           (None, 4, 4, 32)             8224      ['concatenate_3[0][0]']       \n",
            "                                                                                                  \n",
            " max_pooling2d_4 (MaxPoolin  (None, 4, 4, 256)            0         ['concatenate_3[0][0]']       \n",
            " g2D)                                                                                             \n",
            "                                                                                                  \n",
            " inc-2-1x1 (Conv2D)          (None, 4, 4, 128)            32896     ['concatenate_3[0][0]']       \n",
            "                                                                                                  \n",
            " inc-2-3x3 (Conv2D)          (None, 4, 4, 192)            221376    ['conv2d_8[0][0]']            \n",
            "                                                                                                  \n",
            " inc-2-5x5 (Conv2D)          (None, 4, 4, 96)             76896     ['conv2d_9[0][0]']            \n",
            "                                                                                                  \n",
            " inc-2-pool (Conv2D)         (None, 4, 4, 64)             16448     ['max_pooling2d_4[0][0]']     \n",
            "                                                                                                  \n",
            " concatenate_4 (Concatenate  (None, 4, 4, 480)            0         ['inc-2-1x1[0][0]',           \n",
            " )                                                                   'inc-2-3x3[0][0]',           \n",
            "                                                                     'inc-2-5x5[0][0]',           \n",
            "                                                                     'inc-2-pool[0][0]']          \n",
            "                                                                                                  \n",
            " conv2d_10 (Conv2D)          (None, 4, 4, 96)             46176     ['concatenate_4[0][0]']       \n",
            "                                                                                                  \n",
            " conv2d_11 (Conv2D)          (None, 4, 4, 16)             7696      ['concatenate_4[0][0]']       \n",
            "                                                                                                  \n",
            " max_pooling2d_5 (MaxPoolin  (None, 4, 4, 480)            0         ['concatenate_4[0][0]']       \n",
            " g2D)                                                                                             \n",
            "                                                                                                  \n",
            " inc-3-1x1 (Conv2D)          (None, 4, 4, 192)            92352     ['concatenate_4[0][0]']       \n",
            "                                                                                                  \n",
            " inc-3-3x3 (Conv2D)          (None, 4, 4, 208)            179920    ['conv2d_10[0][0]']           \n",
            "                                                                                                  \n",
            " inc-3-5x5 (Conv2D)          (None, 4, 4, 48)             19248     ['conv2d_11[0][0]']           \n",
            "                                                                                                  \n",
            " inc-3-pool (Conv2D)         (None, 4, 4, 64)             30784     ['max_pooling2d_5[0][0]']     \n",
            "                                                                                                  \n",
            " concatenate_5 (Concatenate  (None, 4, 4, 512)            0         ['inc-3-1x1[0][0]',           \n",
            " )                                                                   'inc-3-3x3[0][0]',           \n",
            "                                                                     'inc-3-5x5[0][0]',           \n",
            "                                                                     'inc-3-pool[0][0]']          \n",
            "                                                                                                  \n",
            " conv2d_12 (Conv2D)          (None, 4, 4, 112)            57456     ['concatenate_5[0][0]']       \n",
            "                                                                                                  \n",
            " conv2d_13 (Conv2D)          (None, 4, 4, 24)             12312     ['concatenate_5[0][0]']       \n",
            "                                                                                                  \n",
            " max_pooling2d_6 (MaxPoolin  (None, 4, 4, 512)            0         ['concatenate_5[0][0]']       \n",
            " g2D)                                                                                             \n",
            "                                                                                                  \n",
            " inc-4-1x1 (Conv2D)          (None, 4, 4, 160)            82080     ['concatenate_5[0][0]']       \n",
            "                                                                                                  \n",
            " inc-4-3x3 (Conv2D)          (None, 4, 4, 224)            226016    ['conv2d_12[0][0]']           \n",
            "                                                                                                  \n",
            " inc-4-5x5 (Conv2D)          (None, 4, 4, 64)             38464     ['conv2d_13[0][0]']           \n",
            "                                                                                                  \n",
            " inc-4-pool (Conv2D)         (None, 4, 4, 64)             32832     ['max_pooling2d_6[0][0]']     \n",
            "                                                                                                  \n",
            " concatenate_6 (Concatenate  (None, 4, 4, 512)            0         ['inc-4-1x1[0][0]',           \n",
            " )                                                                   'inc-4-3x3[0][0]',           \n",
            "                                                                     'inc-4-5x5[0][0]',           \n",
            "                                                                     'inc-4-pool[0][0]']          \n",
            "                                                                                                  \n",
            " conv2d_14 (Conv2D)          (None, 4, 4, 128)            65664     ['concatenate_6[0][0]']       \n",
            "                                                                                                  \n",
            " conv2d_15 (Conv2D)          (None, 4, 4, 24)             12312     ['concatenate_6[0][0]']       \n",
            "                                                                                                  \n",
            " max_pooling2d_7 (MaxPoolin  (None, 4, 4, 512)            0         ['concatenate_6[0][0]']       \n",
            " g2D)                                                                                             \n",
            "                                                                                                  \n",
            " inc-5-1x1 (Conv2D)          (None, 4, 4, 128)            65664     ['concatenate_6[0][0]']       \n",
            "                                                                                                  \n",
            " inc-5-3x3 (Conv2D)          (None, 4, 4, 256)            295168    ['conv2d_14[0][0]']           \n",
            "                                                                                                  \n",
            " inc-5-5x5 (Conv2D)          (None, 4, 4, 64)             38464     ['conv2d_15[0][0]']           \n",
            "                                                                                                  \n",
            " inc-5-pool (Conv2D)         (None, 4, 4, 64)             32832     ['max_pooling2d_7[0][0]']     \n",
            "                                                                                                  \n",
            " concatenate_7 (Concatenate  (None, 4, 4, 512)            0         ['inc-5-1x1[0][0]',           \n",
            " )                                                                   'inc-5-3x3[0][0]',           \n",
            "                                                                     'inc-5-5x5[0][0]',           \n",
            "                                                                     'inc-5-pool[0][0]']          \n",
            "                                                                                                  \n",
            " conv2d_16 (Conv2D)          (None, 4, 4, 144)            73872     ['concatenate_7[0][0]']       \n",
            "                                                                                                  \n",
            " conv2d_17 (Conv2D)          (None, 4, 4, 32)             16416     ['concatenate_7[0][0]']       \n",
            "                                                                                                  \n",
            " max_pooling2d_8 (MaxPoolin  (None, 4, 4, 512)            0         ['concatenate_7[0][0]']       \n",
            " g2D)                                                                                             \n",
            "                                                                                                  \n",
            " inc-6-1x1 (Conv2D)          (None, 4, 4, 112)            57456     ['concatenate_7[0][0]']       \n",
            "                                                                                                  \n",
            " inc-6-3x3 (Conv2D)          (None, 4, 4, 288)            373536    ['conv2d_16[0][0]']           \n",
            "                                                                                                  \n",
            " inc-6-5x5 (Conv2D)          (None, 4, 4, 64)             51264     ['conv2d_17[0][0]']           \n",
            "                                                                                                  \n",
            " inc-6-pool (Conv2D)         (None, 4, 4, 64)             32832     ['max_pooling2d_8[0][0]']     \n",
            "                                                                                                  \n",
            " concatenate_8 (Concatenate  (None, 4, 4, 528)            0         ['inc-6-1x1[0][0]',           \n",
            " )                                                                   'inc-6-3x3[0][0]',           \n",
            "                                                                     'inc-6-5x5[0][0]',           \n",
            "                                                                     'inc-6-pool[0][0]']          \n",
            "                                                                                                  \n",
            " conv2d_18 (Conv2D)          (None, 4, 4, 160)            84640     ['concatenate_8[0][0]']       \n",
            "                                                                                                  \n",
            " conv2d_19 (Conv2D)          (None, 4, 4, 32)             16928     ['concatenate_8[0][0]']       \n",
            "                                                                                                  \n",
            " max_pooling2d_9 (MaxPoolin  (None, 4, 4, 528)            0         ['concatenate_8[0][0]']       \n",
            " g2D)                                                                                             \n",
            "                                                                                                  \n",
            " inc-7-1x1 (Conv2D)          (None, 4, 4, 256)            135424    ['concatenate_8[0][0]']       \n",
            "                                                                                                  \n",
            " inc-7-3x3 (Conv2D)          (None, 4, 4, 320)            461120    ['conv2d_18[0][0]']           \n",
            "                                                                                                  \n",
            " inc-7-5x5 (Conv2D)          (None, 4, 4, 128)            102528    ['conv2d_19[0][0]']           \n",
            "                                                                                                  \n",
            " inc-7-pool (Conv2D)         (None, 4, 4, 128)            67712     ['max_pooling2d_9[0][0]']     \n",
            "                                                                                                  \n",
            " concatenate_9 (Concatenate  (None, 4, 4, 832)            0         ['inc-7-1x1[0][0]',           \n",
            " )                                                                   'inc-7-3x3[0][0]',           \n",
            "                                                                     'inc-7-5x5[0][0]',           \n",
            "                                                                     'inc-7-pool[0][0]']          \n",
            "                                                                                                  \n",
            " conv2d_20 (Conv2D)          (None, 4, 4, 192)            159936    ['concatenate_9[0][0]']       \n",
            "                                                                                                  \n",
            " conv2d_21 (Conv2D)          (None, 4, 4, 48)             39984     ['concatenate_9[0][0]']       \n",
            "                                                                                                  \n",
            " max_pooling2d_10 (MaxPooli  (None, 4, 4, 832)            0         ['concatenate_9[0][0]']       \n",
            " ng2D)                                                                                            \n",
            "                                                                                                  \n",
            " inc-8-1x1 (Conv2D)          (None, 4, 4, 384)            319872    ['concatenate_9[0][0]']       \n",
            "                                                                                                  \n",
            " inc-8-3x3 (Conv2D)          (None, 4, 4, 384)            663936    ['conv2d_20[0][0]']           \n",
            "                                                                                                  \n",
            " inc-8-5x5 (Conv2D)          (None, 4, 4, 128)            153728    ['conv2d_21[0][0]']           \n",
            "                                                                                                  \n",
            " inc-8-pool (Conv2D)         (None, 4, 4, 128)            106624    ['max_pooling2d_10[0][0]']    \n",
            "                                                                                                  \n",
            " branch_1_pool (AveragePool  (None, 1, 1, 512)            0         ['concatenate_5[0][0]']       \n",
            " ing2D)                                                                                           \n",
            "                                                                                                  \n",
            " branch_2_pool (AveragePool  (None, 1, 1, 528)            0         ['concatenate_8[0][0]']       \n",
            " ing2D)                                                                                           \n",
            "                                                                                                  \n",
            " concatenate_10 (Concatenat  (None, 4, 4, 1024)           0         ['inc-8-1x1[0][0]',           \n",
            " e)                                                                  'inc-8-3x3[0][0]',           \n",
            "                                                                     'inc-8-5x5[0][0]',           \n",
            "                                                                     'inc-8-pool[0][0]']          \n",
            "                                                                                                  \n",
            " branch_1_conv (Conv2D)      (None, 1, 1, 32)             16416     ['branch_1_pool[0][0]']       \n",
            "                                                                                                  \n",
            " branch_2_conv (Conv2D)      (None, 1, 1, 32)             16928     ['branch_2_pool[0][0]']       \n",
            "                                                                                                  \n",
            " global_average_pooling2d_1  (None, 1024)                 0         ['concatenate_10[0][0]']      \n",
            "  (GlobalAveragePooling2D)                                                                        \n",
            "                                                                                                  \n",
            " branch_1_flatten (Flatten)  (None, 32)                   0         ['branch_1_conv[0][0]']       \n",
            "                                                                                                  \n",
            " branch_2_flatten (Flatten)  (None, 32)                   0         ['branch_2_conv[0][0]']       \n",
            "                                                                                                  \n",
            " dropout_1 (Dropout)         (None, 1024)                 0         ['global_average_pooling2d_1[0\n",
            "                                                                    ][0]']                        \n",
            "                                                                                                  \n",
            " branch_1_dropout (Dropout)  (None, 32)                   0         ['branch_1_flatten[0][0]']    \n",
            "                                                                                                  \n",
            " branch_2_dropout (Dropout)  (None, 32)                   0         ['branch_2_flatten[0][0]']    \n",
            "                                                                                                  \n",
            " final_output (Dense)        (None, 10)                   10250     ['dropout_1[0][0]']           \n",
            "                                                                                                  \n",
            " branch_1_output (Dense)     (None, 10)                   330       ['branch_1_dropout[0][0]']    \n",
            "                                                                                                  \n",
            " branch_2_output (Dense)     (None, 10)                   330       ['branch_2_dropout[0][0]']    \n",
            "                                                                                                  \n",
            "==================================================================================================\n",
            "Total params: 4968078 (18.95 MB)\n",
            "Trainable params: 4968078 (18.95 MB)\n",
            "Non-trainable params: 0 (0.00 Byte)\n",
            "__________________________________________________________________________________________________\n"
          ]
        }
      ],
      "source": [
        "model.summary()"
      ]
    },
    {
      "cell_type": "code",
      "execution_count": null,
      "metadata": {
        "id": "wfbeau4JfSaK"
      },
      "outputs": [],
      "source": [
        "model.build(input_shape=x_train.shape)"
      ]
    },
    {
      "cell_type": "code",
      "execution_count": null,
      "metadata": {
        "id": "kLJY-xxRfY8N"
      },
      "outputs": [],
      "source": [
        "model.compile(optimizer=\"sgd\", loss=\"categorical_crossentropy\", metrics=['accuracy'])"
      ]
    },
    {
      "cell_type": "code",
      "execution_count": null,
      "metadata": {
        "colab": {
          "base_uri": "https://localhost:8080/"
        },
        "id": "gPGINMMjg2HD",
        "outputId": "dcbe85b0-f05b-42d2-b9f2-6103c5b59497"
      },
      "outputs": [
        {
          "data": {
            "text/plain": [
              "(60000, 28, 28, 1)"
            ]
          },
          "execution_count": 54,
          "metadata": {},
          "output_type": "execute_result"
        }
      ],
      "source": [
        "x_train.shape"
      ]
    },
    {
      "cell_type": "code",
      "execution_count": null,
      "metadata": {
        "colab": {
          "background_save": true,
          "base_uri": "https://localhost:8080/"
        },
        "id": "_9-OSoIKffvo",
        "outputId": "5296fbb6-a4ae-4450-f368-d7493e043159"
      },
      "outputs": [
        {
          "name": "stdout",
          "output_type": "stream",
          "text": [
            "Epoch 1/100\n",
            "1875/1875 [==============================] - 996s 529ms/step - loss: 6.3763 - final_output_loss: 2.0383 - branch_1_output_loss: 2.1599 - branch_2_output_loss: 2.1781 - final_output_accuracy: 0.2404 - branch_1_output_accuracy: 0.1989 - branch_2_output_accuracy: 0.1716\n",
            "Epoch 2/100\n",
            "1875/1875 [==============================] - 986s 526ms/step - loss: 2.2295 - final_output_loss: 0.3776 - branch_1_output_loss: 0.9424 - branch_2_output_loss: 0.9094 - final_output_accuracy: 0.8794 - branch_1_output_accuracy: 0.6511 - branch_2_output_accuracy: 0.6556\n",
            "Epoch 3/100\n",
            "1875/1875 [==============================] - 987s 526ms/step - loss: 1.1791 - final_output_loss: 0.1136 - branch_1_output_loss: 0.5654 - branch_2_output_loss: 0.5002 - final_output_accuracy: 0.9683 - branch_1_output_accuracy: 0.7835 - branch_2_output_accuracy: 0.8088\n",
            "Epoch 4/100\n",
            "1875/1875 [==============================] - 979s 522ms/step - loss: 0.9776 - final_output_loss: 0.0734 - branch_1_output_loss: 0.4731 - branch_2_output_loss: 0.4311 - final_output_accuracy: 0.9800 - branch_1_output_accuracy: 0.8111 - branch_2_output_accuracy: 0.8272\n",
            "Epoch 5/100\n",
            "1875/1875 [==============================] - 984s 525ms/step - loss: 0.8646 - final_output_loss: 0.0572 - branch_1_output_loss: 0.4089 - branch_2_output_loss: 0.3985 - final_output_accuracy: 0.9840 - branch_1_output_accuracy: 0.8338 - branch_2_output_accuracy: 0.8357\n",
            "Epoch 6/100\n",
            "1875/1875 [==============================] - 955s 510ms/step - loss: 0.7824 - final_output_loss: 0.0502 - branch_1_output_loss: 0.3561 - branch_2_output_loss: 0.3760 - final_output_accuracy: 0.9868 - branch_1_output_accuracy: 0.8564 - branch_2_output_accuracy: 0.8419\n",
            "Epoch 7/100\n",
            "1875/1875 [==============================] - 966s 515ms/step - loss: 0.7262 - final_output_loss: 0.0421 - branch_1_output_loss: 0.3351 - branch_2_output_loss: 0.3490 - final_output_accuracy: 0.9884 - branch_1_output_accuracy: 0.8637 - branch_2_output_accuracy: 0.8477\n",
            "Epoch 8/100\n",
            "1875/1875 [==============================] - 969s 517ms/step - loss: 0.7000 - final_output_loss: 0.0359 - branch_1_output_loss: 0.3219 - branch_2_output_loss: 0.3422 - final_output_accuracy: 0.9905 - branch_1_output_accuracy: 0.8683 - branch_2_output_accuracy: 0.8529\n",
            "Epoch 9/100\n",
            "1875/1875 [==============================] - 964s 514ms/step - loss: 0.6614 - final_output_loss: 0.0318 - branch_1_output_loss: 0.3089 - branch_2_output_loss: 0.3207 - final_output_accuracy: 0.9918 - branch_1_output_accuracy: 0.8720 - branch_2_output_accuracy: 0.8592\n",
            "Epoch 10/100\n",
            "1875/1875 [==============================] - 957s 510ms/step - loss: 1.1207 - final_output_loss: 0.1742 - branch_1_output_loss: 0.4329 - branch_2_output_loss: 0.5136 - final_output_accuracy: 0.9526 - branch_1_output_accuracy: 0.8399 - branch_2_output_accuracy: 0.7897\n",
            "Epoch 11/100\n",
            "1875/1875 [==============================] - 954s 509ms/step - loss: 0.9543 - final_output_loss: 0.0460 - branch_1_output_loss: 0.3263 - branch_2_output_loss: 0.5819 - final_output_accuracy: 0.9880 - branch_1_output_accuracy: 0.8695 - branch_2_output_accuracy: 0.7554\n",
            "Epoch 12/100\n",
            " 204/1875 [==>...........................] - ETA: 14:25 - loss: 0.7913 - final_output_loss: 0.0256 - branch_1_output_loss: 0.2921 - branch_2_output_loss: 0.4737 - final_output_accuracy: 0.9939 - branch_1_output_accuracy: 0.8787 - branch_2_output_accuracy: 0.8120"
          ]
        }
      ],
      "source": [
        "model.fit(x_train, y_train, epochs=100)"
      ]
    }
  ],
  "metadata": {
    "colab": {
      "provenance": [],
      "include_colab_link": true
    },
    "kernelspec": {
      "display_name": "Python 3",
      "name": "python3"
    },
    "language_info": {
      "name": "python"
    }
  },
  "nbformat": 4,
  "nbformat_minor": 0
}